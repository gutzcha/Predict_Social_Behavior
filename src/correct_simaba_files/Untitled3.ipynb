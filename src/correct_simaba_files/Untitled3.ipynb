{
 "cells": [
  {
   "cell_type": "code",
   "execution_count": 10,
   "id": "cfdfad04",
   "metadata": {},
   "outputs": [],
   "source": [
    "import os\n",
    "import os.path as osp\n",
    "import glob"
   ]
  },
  {
   "cell_type": "code",
   "execution_count": 2,
   "id": "a440eed1",
   "metadata": {},
   "outputs": [
    {
     "data": {
      "text/plain": [
       "'D:\\\\Project- Electro\\\\Predict_Social_Behavior\\\\src\\\\correct_simaba_files'"
      ]
     },
     "execution_count": 2,
     "metadata": {},
     "output_type": "execute_result"
    }
   ],
   "source": [
    "os.getcwd()"
   ]
  },
  {
   "cell_type": "code",
   "execution_count": 17,
   "id": "1492f855",
   "metadata": {},
   "outputs": [],
   "source": [
    "corrected_labels_folder = 'D:\\\\Project- Electro\\\\deeplabcut model traind on tethered free rats\\\\corrected labels'\n",
    "csv_list = glob.glob(osp.join(corrected_labels_folder,'*.csv'))\n"
   ]
  },
  {
   "cell_type": "code",
   "execution_count": 18,
   "id": "1846df30",
   "metadata": {
    "scrolled": true
   },
   "outputs": [],
   "source": [
    "img_folder = 'D:\\\\Project- Electro\\deeplabcut model traind on tethered free rats\\\\deeplabcut model traind on tethered free rats\\\\labeled-data'\n",
    "vid_folder_list = glob.glob(osp.join(img_folder,'**'))"
   ]
  },
  {
   "cell_type": "code",
   "execution_count": 20,
   "id": "8ccbbc29",
   "metadata": {},
   "outputs": [
    {
     "data": {
      "text/plain": [
       "4"
      ]
     },
     "execution_count": 20,
     "metadata": {},
     "output_type": "execute_result"
    }
   ],
   "source": [
    "len(vid_folder_list)"
   ]
  },
  {
   "cell_type": "code",
   "execution_count": null,
   "id": "08947cd9",
   "metadata": {},
   "outputs": [],
   "source": []
  }
 ],
 "metadata": {
  "kernelspec": {
   "display_name": "PyCharm (Predict_Social_Behavior)",
   "language": "python",
   "name": "pycharm-28b9a5e7"
  },
  "language_info": {
   "codemirror_mode": {
    "name": "ipython",
    "version": 3
   },
   "file_extension": ".py",
   "mimetype": "text/x-python",
   "name": "python",
   "nbconvert_exporter": "python",
   "pygments_lexer": "ipython3",
   "version": "3.10.12"
  }
 },
 "nbformat": 4,
 "nbformat_minor": 5
}
